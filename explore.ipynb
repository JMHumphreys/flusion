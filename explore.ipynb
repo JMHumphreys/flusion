{
  "cells": [
    {
      "cell_type": "raw",
      "metadata": {},
      "source": [
        "---\n",
        "title: \"Explore f(l)usion\"\n",
        "description: \"Constructing formula and running the model.\"\n",
        "format:\n",
        "  html:\n",
        "    df-print: kable\n",
        "    code-fold: show\n",
        "    code-summary: \"Hide code\"\n",
        "    code-overflow: wrap\n",
        "    toc-title: Page Contents\n",
        "    toc: true\n",
        "    toc-depth: 2\n",
        "    toc-location: right\n",
        "    number-sections: false\n",
        "    html-math-method: katex\n",
        "    css: styles.css\n",
        "    theme: flatly\n",
        "    smooth-scroll: true\n",
        "editor_options: \n",
        "  chunk_output_type: console\n",
        "---"
      ],
      "id": "59994cab"
    },
    {
      "cell_type": "markdown",
      "metadata": {},
      "source": [
        "```{caution}\n",
        "Thus project is under development\n",
        "\n",
        "```\n",
        "\n",
        "# Test Page"
      ],
      "id": "c10072ee"
    }
  ],
  "metadata": {
    "kernelspec": {
      "display_name": "Python 3",
      "language": "python",
      "name": "python3"
    }
  },
  "nbformat": 4,
  "nbformat_minor": 5
}